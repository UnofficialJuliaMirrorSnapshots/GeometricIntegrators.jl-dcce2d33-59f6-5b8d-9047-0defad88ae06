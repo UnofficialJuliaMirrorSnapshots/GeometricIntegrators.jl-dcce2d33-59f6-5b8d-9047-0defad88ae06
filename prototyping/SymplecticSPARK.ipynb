{
 "cells": [
  {
   "cell_type": "code",
   "execution_count": 1,
   "metadata": {},
   "outputs": [
    {
     "name": "stderr",
     "output_type": "stream",
     "text": [
      "┌ Info: Recompiling stale cache file /Users/mkraus/.julia/compiled/v1.2/GeometricIntegrators/fhpp1.ji for GeometricIntegrators [dcce2d33-59f6-5b8d-9047-0defad88ae06]\n",
      "└ @ Base loading.jl:1240\n"
     ]
    }
   ],
   "source": [
    "using GeometricIntegrators"
   ]
  },
  {
   "cell_type": "code",
   "execution_count": 2,
   "metadata": {},
   "outputs": [
    {
     "data": {
      "text/plain": [
       "getTableauVSPARKSymplecticProjection (generic function with 2 methods)"
      ]
     },
     "execution_count": 2,
     "metadata": {},
     "output_type": "execute_result"
    }
   ],
   "source": [
    "function getTableauVSPARKSymplecticProjection(name, q::CoefficientsRK{T}, p::CoefficientsRK{T}, d=[]) where {T}\n",
    "\n",
    "    la = getCoefficientsLobIIIA2()\n",
    "    lb = getCoefficientsLobIIIB2()\n",
    "\n",
    "    @assert q.s == p.s\n",
    "    @assert q.b == p.b\n",
    "    @assert q.c == p.c\n",
    "    \n",
    "    @assert la.s == lb.s\n",
    "    @assert la.b == lb.b\n",
    "#    @assert la.c == lb.c\n",
    "\n",
    "    s = q.s\n",
    "    σ = la.s\n",
    "    ρ = 0\n",
    "\n",
    "    a_q = q.a\n",
    "    a_p = p.a\n",
    "    b_q = q.b\n",
    "    b_p = p.b\n",
    "    \n",
    "    β_q = la.b\n",
    "    β_p = lb.b\n",
    "#    β_q = [0.5, R∞*0.5]\n",
    "#    β_p = [0.5, R∞*0.5]\n",
    "\n",
    "    α_q = zeros(T, s, 2)\n",
    "    α_q[:,1] .= 0.5\n",
    "\n",
    "    α_p = zeros(T, s, 2)\n",
    "    α_p[:,1] .= 0.5\n",
    "\n",
    "#    α_q = zeros(T, s, σ)\n",
    "#    α_p = zeros(T, s, σ)\n",
    "#    for i in 1:s\n",
    "#        for j in 1:σ\n",
    "#            α_q[i,j] = #q.b[i] / β[1] * ( β[1] - α[i,1] )\n",
    "#            α_p[i,j] = #p.b[i] / β[1] * ( β[1] - α[i,1] )\n",
    "#        end\n",
    "#    end\n",
    "\n",
    "    a_q̃ = zeros(T, σ, s)\n",
    "    a_p̃ = zeros(T, σ, s)\n",
    "    for i in 1:σ\n",
    "        for j in 1:s\n",
    "            a_q̃[i,j] = b_q[j] / β_p[i] * (β_p[i] - α_p[j,i])\n",
    "            a_p̃[i,j] = b_p[j] / β_q[i] * (β_q[i] - α_q[j,i])\n",
    "        end\n",
    "    end\n",
    "\n",
    "    α_q̃ = la.a\n",
    "    α_p̃ = lb.a\n",
    "\n",
    "    c_q = q.c\n",
    "    c_p = p.c\n",
    "    c_λ = la.c\n",
    "    d_λ = zeros(T, ρ, σ)\n",
    "\n",
    "    ω_λ = [0.5 0.5 0.0\n",
    "            0.0 0.0 1.0]\n",
    "\n",
    "\n",
    "    if length(d) == 0\n",
    "        return TableauVSPARKprimary(name, min(q.o, p.o),\n",
    "                            a_q, a_p, α_q, α_p,\n",
    "                            a_q̃, a_p̃, α_q̃, α_p̃,\n",
    "                            b_q, b_p, β_q, β_p,\n",
    "                            c_q, c_p, c_λ, d_λ,\n",
    "                            ω_λ)\n",
    "    else\n",
    "        @assert length(d) == s\n",
    "\n",
    "        return TableauVSPARKprimary(name, o,\n",
    "                            a_q, a_p, α_q, α_p,\n",
    "                            a_q̃, a_p̃, α_q̃, α_p̃,\n",
    "                            b_q, b_p, β_q, β_p,\n",
    "                            c_q, c_p, c_λ, d_λ,\n",
    "                            ω_λ, d)\n",
    "    end\n",
    "\n",
    "end"
   ]
  },
  {
   "cell_type": "code",
   "execution_count": 3,
   "metadata": {},
   "outputs": [
    {
     "data": {
      "text/plain": [
       "getTableauVSPARKGLRKpSymplectic (generic function with 1 method)"
      ]
     },
     "execution_count": 3,
     "metadata": {},
     "output_type": "execute_result"
    }
   ],
   "source": [
    "function getTableauVSPARKGLRKpSymplectic(s)\n",
    "    glrk = getCoefficientsGLRK(s)\n",
    "    getTableauVSPARKSymplecticProjection(Symbol(\"VSPARK\", s, \"pSymplectic\"), glrk, glrk)\n",
    "end"
   ]
  },
  {
   "cell_type": "code",
   "execution_count": 21,
   "metadata": {},
   "outputs": [
    {
     "data": {
      "text/plain": [
       "compute_symplecticity_error (generic function with 1 method)"
      ]
     },
     "execution_count": 21,
     "metadata": {},
     "output_type": "execute_result"
    }
   ],
   "source": [
    "function compute_symplecticity_error(a, b, α, β)\n",
    "    @assert length(b) == size(α, 1) == size(a,2)\n",
    "    @assert length(β) == size(α, 2) == size(a,1)\n",
    "    [b[i] * α[i,j] + β[j] * a[j,i] - b[i] * β[j] for i in 1:length(b), j in 1:length(β)]\n",
    "end"
   ]
  },
  {
   "cell_type": "code",
   "execution_count": 5,
   "metadata": {},
   "outputs": [
    {
     "data": {
      "text/plain": [
       "AbstractTableauVSPARK{:vspark_primary,Float64}(:VSPARK1pSymplectic, 2, 1, 2, 2, Additive Runge-Kutta Coefficients VSPARK1pSymplecticwith 1 internal stages, 2 projective stages and order 2  a = [0.5]  b = [1.0]  c = [0.5]  α = [0.5 0.0]  β = [0.5, 0.5], Additive Runge-Kutta Coefficients VSPARK1pSymplecticwith 1 internal stages, 2 projective stages and order 2  a = [0.5]  b = [1.0]  c = [0.5]  α = [0.5 0.0]  β = [0.5, 0.5], Projective Runge-Kutta Coefficients VSPARK1pSymplecticwith 1 internal stages, 2 projective stages and order 2  a = [0.0; 1.0]  c = [0.0, 1.0]  α = [0.0 0.0; 0.5 0.5], Projective Runge-Kutta Coefficients VSPARK1pSymplecticwith 1 internal stages, 2 projective stages and order 2  a = [0.0; 1.0]  c = [0.0, 1.0]  α = [0.5 0.0; 0.5 0.0], Multiplier Runge-Kutta coefficients VSPARK1pSymplecticwith 2 projective stages  b = [0.0, 0.0]  c = [0.0, 1.0], [0.5 0.5 0.0; 0.0 0.0 1.0], #undef)"
      ]
     },
     "execution_count": 5,
     "metadata": {},
     "output_type": "execute_result"
    }
   ],
   "source": [
    "tab = getTableauVSPARKGLRKpSymplectic(1)"
   ]
  },
  {
   "cell_type": "code",
   "execution_count": 22,
   "metadata": {},
   "outputs": [
    {
     "data": {
      "text/plain": [
       "1×1 Array{Float64,2}:\n",
       " 0.0"
      ]
     },
     "execution_count": 22,
     "metadata": {},
     "output_type": "execute_result"
    }
   ],
   "source": [
    "compute_symplecticity_error(tab.q.a, tab.q.b, tab.p.a, tab.p.b)"
   ]
  },
  {
   "cell_type": "code",
   "execution_count": 23,
   "metadata": {},
   "outputs": [
    {
     "data": {
      "text/plain": [
       "1×2 Array{Float64,2}:\n",
       " 0.0  0.0"
      ]
     },
     "execution_count": 23,
     "metadata": {},
     "output_type": "execute_result"
    }
   ],
   "source": [
    "compute_symplecticity_error(tab.p̃.a, tab.p.b, tab.q.α, tab.q.β)"
   ]
  },
  {
   "cell_type": "code",
   "execution_count": 26,
   "metadata": {},
   "outputs": [
    {
     "data": {
      "text/plain": [
       "1×2 Array{Float64,2}:\n",
       " 0.0  0.0"
      ]
     },
     "execution_count": 26,
     "metadata": {},
     "output_type": "execute_result"
    }
   ],
   "source": [
    "compute_symplecticity_error(tab.q̃.a, tab.q.b, tab.p.α, tab.p.β)"
   ]
  },
  {
   "cell_type": "code",
   "execution_count": 27,
   "metadata": {},
   "outputs": [
    {
     "data": {
      "text/plain": [
       "2×2 Array{Float64,2}:\n",
       " 0.0  0.0\n",
       " 0.0  0.0"
      ]
     },
     "execution_count": 27,
     "metadata": {},
     "output_type": "execute_result"
    }
   ],
   "source": [
    "compute_symplecticity_error(tab.q̃.α, tab.q.β, tab.p̃.α, tab.p.β)"
   ]
  },
  {
   "cell_type": "code",
   "execution_count": null,
   "metadata": {},
   "outputs": [],
   "source": []
  }
 ],
 "metadata": {
  "@webio": {
   "lastCommId": null,
   "lastKernelId": null
  },
  "kernelspec": {
   "display_name": "Julia 1.2.0",
   "language": "julia",
   "name": "julia-1.2"
  },
  "language_info": {
   "file_extension": ".jl",
   "mimetype": "application/julia",
   "name": "julia",
   "version": "1.2.0"
  }
 },
 "nbformat": 4,
 "nbformat_minor": 2
}
