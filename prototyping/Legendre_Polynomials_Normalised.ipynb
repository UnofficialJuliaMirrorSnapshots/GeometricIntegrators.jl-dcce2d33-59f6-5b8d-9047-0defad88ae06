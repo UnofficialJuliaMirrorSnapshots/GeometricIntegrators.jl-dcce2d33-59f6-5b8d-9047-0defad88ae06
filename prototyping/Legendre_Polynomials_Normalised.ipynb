{
 "cells": [
  {
   "cell_type": "code",
   "execution_count": 2,
   "metadata": {
    "collapsed": true
   },
   "outputs": [],
   "source": [
    "from sympy import *"
   ]
  },
  {
   "cell_type": "code",
   "execution_count": 3,
   "metadata": {
    "collapsed": true
   },
   "outputs": [],
   "source": [
    "s=10"
   ]
  },
  {
   "cell_type": "code",
   "execution_count": 5,
   "metadata": {
    "collapsed": true
   },
   "outputs": [],
   "source": [
    "x = Symbol(\"x\")"
   ]
  },
  {
   "cell_type": "code",
   "execution_count": 8,
   "metadata": {
    "collapsed": true
   },
   "outputs": [],
   "source": [
    "legpols = []"
   ]
  },
  {
   "cell_type": "code",
   "execution_count": 9,
   "metadata": {},
   "outputs": [],
   "source": [
    "for k in range(0,s+1):\n",
    "    legpol = 0\n",
    "    for j in range(0, k+1):\n",
    "        legpol += (-1)**(j+k) * binomial(k,j) * binomial(j+k,j) * x**j\n",
    "    legpols.append(sqrt(2*k+1)*legpol)"
   ]
  },
  {
   "cell_type": "code",
   "execution_count": 10,
   "metadata": {},
   "outputs": [
    {
     "data": {
      "text/plain": [
       "[1,\n",
       " sqrt(3)*(2*x - 1),\n",
       " sqrt(5)*(6*x**2 - 6*x + 1),\n",
       " sqrt(7)*(20*x**3 - 30*x**2 + 12*x - 1),\n",
       " 210*x**4 - 420*x**3 + 270*x**2 - 60*x + 3,\n",
       " sqrt(11)*(252*x**5 - 630*x**4 + 560*x**3 - 210*x**2 + 30*x - 1),\n",
       " sqrt(13)*(924*x**6 - 2772*x**5 + 3150*x**4 - 1680*x**3 + 420*x**2 - 42*x + 1),\n",
       " sqrt(15)*(3432*x**7 - 12012*x**6 + 16632*x**5 - 11550*x**4 + 4200*x**3 - 756*x**2 + 56*x - 1),\n",
       " sqrt(17)*(12870*x**8 - 51480*x**7 + 84084*x**6 - 72072*x**5 + 34650*x**4 - 9240*x**3 + 1260*x**2 - 72*x + 1),\n",
       " sqrt(19)*(48620*x**9 - 218790*x**8 + 411840*x**7 - 420420*x**6 + 252252*x**5 - 90090*x**4 + 18480*x**3 - 1980*x**2 + 90*x - 1),\n",
       " sqrt(21)*(184756*x**10 - 923780*x**9 + 1969110*x**8 - 2333760*x**7 + 1681680*x**6 - 756756*x**5 + 210210*x**4 - 34320*x**3 + 2970*x**2 - 110*x + 1)]"
      ]
     },
     "execution_count": 10,
     "metadata": {},
     "output_type": "execute_result"
    }
   ],
   "source": [
    "legpols"
   ]
  },
  {
   "cell_type": "code",
   "execution_count": null,
   "metadata": {
    "collapsed": true
   },
   "outputs": [],
   "source": []
  }
 ],
 "metadata": {
  "kernelspec": {
   "display_name": "Python 3",
   "language": "python",
   "name": "python3"
  },
  "language_info": {
   "codemirror_mode": {
    "name": "ipython",
    "version": 3
   },
   "file_extension": ".py",
   "mimetype": "text/x-python",
   "name": "python",
   "nbconvert_exporter": "python",
   "pygments_lexer": "ipython3",
   "version": "3.6.2"
  }
 },
 "nbformat": 4,
 "nbformat_minor": 2
}
